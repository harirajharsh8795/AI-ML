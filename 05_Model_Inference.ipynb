{
 "cells": [
  {
   "cell_type": "code",
   "execution_count": 23,
   "id": "94a0669b",
   "metadata": {},
   "outputs": [
    {
     "name": "stdout",
     "output_type": "stream",
     "text": [
      "Requirement already satisfied: joblib in d:\\desktop\\ai-ml\\.venv\\lib\\site-packages (1.5.1)\n"
     ]
    }
   ],
   "source": [
    "!pip install joblib"
   ]
  },
  {
   "cell_type": "code",
   "execution_count": 24,
   "id": "08604ec4",
   "metadata": {},
   "outputs": [
    {
     "name": "stdout",
     "output_type": "stream",
     "text": [
      "Model compressed and saved as classifier_new.pkl\n"
     ]
    }
   ],
   "source": [
    "import joblib\n",
    "\n",
    "# Load your existing large model\n",
    "clf_model = joblib.load(\"../models/classifier.pkl\")\n",
    "\n",
    "# Compress and save the loaded model\n",
    "joblib.dump(clf_model, \"classifier_new.pkl\", compress=9)\n",
    "\n",
    "print(\"Model compressed and saved as classifier_new.pkl\")"
   ]
  },
  {
   "cell_type": "code",
   "execution_count": 25,
   "id": "c298de61",
   "metadata": {},
   "outputs": [
    {
     "name": "stdout",
     "output_type": "stream",
     "text": [
      "Model features: 10\n"
     ]
    },
    {
     "data": {
      "text/plain": [
       "['classifier_new.pkl']"
      ]
     },
     "execution_count": 25,
     "metadata": {},
     "output_type": "execute_result"
    }
   ],
   "source": [
    "import joblib\n",
    "\n",
    "clf_model = joblib.load(\"../models/classifier.pkl\")\n",
    "\n",
    "# Extra attributes delete kardo jo model ke liye zaruri nahi hain\n",
    "if hasattr(clf_model, 'n_features_in_'):\n",
    "    print(\"Model features:\", clf_model.n_features_in_)\n",
    "\n",
    "# Save with compression (already doing)\n",
    "joblib.dump(clf_model, \"classifier_new.pkl\", compress=('xz', 9))\n"
   ]
  },
  {
   "cell_type": "code",
   "execution_count": 26,
   "id": "06417047",
   "metadata": {},
   "outputs": [
    {
     "name": "stdout",
     "output_type": "stream",
     "text": [
      "['classifier.pkl', 'classifier_new.pkl', 'regressor.pkl']\n"
     ]
    }
   ],
   "source": [
    "import os\n",
    "print(os.listdir(\"../models\"))\n"
   ]
  },
  {
   "cell_type": "code",
   "execution_count": 27,
   "id": "226f416c",
   "metadata": {},
   "outputs": [],
   "source": [
    "import joblib\n",
    "\n",
    "# Load Trained Models\n",
    "clf_model = joblib.load(\"classifier_new.pkl\")\n",
    "reg_model = joblib.load(\"../models/regressor.pkl\")\n"
   ]
  },
  {
   "cell_type": "code",
   "execution_count": 28,
   "id": "ef7854ef",
   "metadata": {},
   "outputs": [
    {
     "name": "stdout",
     "output_type": "stream",
     "text": [
      "['num__Age' 'num__Annual_Income' 'num__Family_Size' 'num__Credit_Score'\n",
      " 'num__Travel_Frequency' 'num__Web_Visits' 'num__Email_Engagement'\n",
      " 'cat__Gender_Female' 'cat__Gender_Male' 'cat__Marital_Status_Divorced'\n",
      " 'cat__Marital_Status_Married' 'cat__Marital_Status_Single'\n",
      " 'cat__Previous_Package_Basic' 'cat__Previous_Package_Deluxe'\n",
      " 'cat__Previous_Package_King' 'cat__Previous_Package_Standard'\n",
      " 'cat__Previous_Package_Super Deluxe' 'cat__Previous_Package_nan']\n"
     ]
    }
   ],
   "source": [
    "print(reg_model.named_steps['preprocessor'].get_feature_names_out())\n"
   ]
  },
  {
   "cell_type": "code",
   "execution_count": 29,
   "id": "66e959f1",
   "metadata": {},
   "outputs": [],
   "source": [
    "import pandas as pd\n",
    "import joblib"
   ]
  },
  {
   "cell_type": "code",
   "execution_count": 31,
   "id": "c290cf64",
   "metadata": {},
   "outputs": [],
   "source": [
    "#  Load Trained Models\n",
    "clf_model = joblib.load(\"classifier_new.pkl\")\n",
    "reg_model = joblib.load(\"../models/regressor.pkl\")"
   ]
  },
  {
   "cell_type": "code",
   "execution_count": 32,
   "id": "83a30711",
   "metadata": {},
   "outputs": [],
   "source": [
    "\n",
    "#  Create New Customer Data\n",
    "new_customers = pd.DataFrame([\n",
    "    {\n",
    "        \"age\": 28,\n",
    "        \"annual_income\": 85000,\n",
    "        \"family_size\": 2,\n",
    "        \"credit_score\": 680,\n",
    "        \"travel_frequency\": 3,\n",
    "        \"web_visits\": 14,\n",
    "        \"email_engagement\": 8,\n",
    "        \"gender\": \"female\",\n",
    "        \"marital_status\": \"married\",\n",
    "        \"previous_package\": \"deluxe\"\n",
    "    },\n",
    "    {\n",
    "        \"age\": 45,\n",
    "        \"annual_income\": 60000,\n",
    "        \"family_size\": 4,\n",
    "        \"credit_score\": 720,\n",
    "        \"travel_frequency\": 1,\n",
    "        \"web_visits\": 5,\n",
    "        \"email_engagement\": 2,\n",
    "        \"gender\": \"male\",\n",
    "        \"marital_status\": \"single\",\n",
    "        \"previous_package\": \"basic\"\n",
    "    }\n",
    "])\n"
   ]
  },
  {
   "cell_type": "code",
   "execution_count": 33,
   "id": "05f33261",
   "metadata": {},
   "outputs": [],
   "source": [
    "# Rename columns to match training format\n",
    "new_customers.rename(columns={\n",
    "    \"age\": \"Age\",\n",
    "    \"annual_income\": \"Annual_Income\",\n",
    "    \"family_size\": \"Family_Size\",\n",
    "    \"credit_score\": \"Credit_Score\",\n",
    "    \"travel_frequency\": \"Travel_Frequency\",\n",
    "    \"web_visits\": \"Web_Visits\",\n",
    "    \"email_engagement\": \"Email_Engagement\",\n",
    "    \"gender\": \"Gender\",\n",
    "    \"marital_status\": \"Marital_Status\",\n",
    "    \"previous_package\": \"Previous_Package\"\n",
    "}, inplace=True)\n"
   ]
  },
  {
   "cell_type": "code",
   "execution_count": 34,
   "id": "230e1645",
   "metadata": {},
   "outputs": [
    {
     "data": {
      "text/html": [
       "<div>\n",
       "<style scoped>\n",
       "    .dataframe tbody tr th:only-of-type {\n",
       "        vertical-align: middle;\n",
       "    }\n",
       "\n",
       "    .dataframe tbody tr th {\n",
       "        vertical-align: top;\n",
       "    }\n",
       "\n",
       "    .dataframe thead th {\n",
       "        text-align: right;\n",
       "    }\n",
       "</style>\n",
       "<table border=\"1\" class=\"dataframe\">\n",
       "  <thead>\n",
       "    <tr style=\"text-align: right;\">\n",
       "      <th></th>\n",
       "      <th>Age</th>\n",
       "      <th>Annual_Income</th>\n",
       "      <th>Family_Size</th>\n",
       "      <th>Credit_Score</th>\n",
       "      <th>Travel_Frequency</th>\n",
       "      <th>Web_Visits</th>\n",
       "      <th>Email_Engagement</th>\n",
       "      <th>Gender</th>\n",
       "      <th>Marital_Status</th>\n",
       "      <th>Previous_Package</th>\n",
       "    </tr>\n",
       "  </thead>\n",
       "  <tbody>\n",
       "    <tr>\n",
       "      <th>0</th>\n",
       "      <td>28</td>\n",
       "      <td>85000</td>\n",
       "      <td>2</td>\n",
       "      <td>680</td>\n",
       "      <td>3</td>\n",
       "      <td>14</td>\n",
       "      <td>8</td>\n",
       "      <td>female</td>\n",
       "      <td>married</td>\n",
       "      <td>deluxe</td>\n",
       "    </tr>\n",
       "    <tr>\n",
       "      <th>1</th>\n",
       "      <td>45</td>\n",
       "      <td>60000</td>\n",
       "      <td>4</td>\n",
       "      <td>720</td>\n",
       "      <td>1</td>\n",
       "      <td>5</td>\n",
       "      <td>2</td>\n",
       "      <td>male</td>\n",
       "      <td>single</td>\n",
       "      <td>basic</td>\n",
       "    </tr>\n",
       "  </tbody>\n",
       "</table>\n",
       "</div>"
      ],
      "text/plain": [
       "   Age  Annual_Income  Family_Size  Credit_Score  Travel_Frequency  \\\n",
       "0   28          85000            2           680                 3   \n",
       "1   45          60000            4           720                 1   \n",
       "\n",
       "   Web_Visits  Email_Engagement  Gender Marital_Status Previous_Package  \n",
       "0          14                 8  female        married           deluxe  \n",
       "1           5                 2    male         single            basic  "
      ]
     },
     "execution_count": 34,
     "metadata": {},
     "output_type": "execute_result"
    }
   ],
   "source": [
    "new_customers"
   ]
  },
  {
   "cell_type": "code",
   "execution_count": 35,
   "id": "39a584b2",
   "metadata": {},
   "outputs": [],
   "source": [
    "# Make Predictions\n",
    "# Predict if customer will purchase (0 or 1)\n",
    "purchase_preds = clf_model.predict(new_customers)\n",
    "purchase_probs = clf_model.predict_proba(new_customers)[:, 1]  "
   ]
  },
  {
   "cell_type": "code",
   "execution_count": 36,
   "id": "8a2884f0",
   "metadata": {},
   "outputs": [
    {
     "name": "stdout",
     "output_type": "stream",
     "text": [
      "['Age' 'Gender' 'Marital_Status' 'Annual_Income' 'Family_Size'\n",
      " 'Credit_Score' 'Previous_Package' 'Travel_Frequency' 'Web_Visits'\n",
      " 'Email_Engagement']\n"
     ]
    }
   ],
   "source": [
    "print(reg_model.named_steps['preprocessor'].feature_names_in_)\n"
   ]
  },
  {
   "cell_type": "code",
   "execution_count": 37,
   "id": "b3a91877",
   "metadata": {},
   "outputs": [
    {
     "name": "stdout",
     "output_type": "stream",
     "text": [
      "Index(['Age', 'Annual_Income', 'Family_Size', 'Credit_Score',\n",
      "       'Travel_Frequency', 'Web_Visits', 'Email_Engagement', 'Gender',\n",
      "       'Marital_Status', 'Previous_Package'],\n",
      "      dtype='object')\n"
     ]
    }
   ],
   "source": [
    "print(new_customers.columns)\n"
   ]
  },
  {
   "cell_type": "code",
   "execution_count": 38,
   "id": "d66340de",
   "metadata": {},
   "outputs": [],
   "source": [
    "def predict_for_new_customers(new_customers):\n",
    "    # ✅ 1. Convert input into DataFrame\n",
    "    df_new = pd.DataFrame(new_customers if isinstance(new_customers, list) else [new_customers])\n",
    "    \n",
    "    # ✅ 2. Clean column names\n",
    "    df_new.columns = df_new.columns.str.lower()\n",
    "    \n",
    "    # ✅ 3. Run predictions\n",
    "    purchase_preds = clf_model.predict(df_new)\n",
    "    purchase_probs = clf_model.predict_proba(df_new)[:, 1]\n",
    "    probability_scores = reg_model.predict(df_new)\n",
    "    \n",
    "    # ✅ 4. Merge results\n",
    "    df_new[\"will_purchase\"] = purchase_preds\n",
    "    df_new[\"purchase_probability\"] = purchase_probs.round(3)\n",
    "    df_new[\"predicted_probability_score\"] = probability_scores.round(3)\n",
    "    \n",
    "    return df_new\n"
   ]
  }
 ],
 "metadata": {
  "kernelspec": {
   "display_name": ".venv",
   "language": "python",
   "name": "python3"
  },
  "language_info": {
   "codemirror_mode": {
    "name": "ipython",
    "version": 3
   },
   "file_extension": ".py",
   "mimetype": "text/x-python",
   "name": "python",
   "nbconvert_exporter": "python",
   "pygments_lexer": "ipython3",
   "version": "3.13.5"
  }
 },
 "nbformat": 4,
 "nbformat_minor": 5
}
